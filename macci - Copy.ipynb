{
 "cells": [
  {
   "cell_type": "code",
   "execution_count": 47,
   "id": "307367d6",
   "metadata": {},
   "outputs": [],
   "source": [
    "from IPython.display import Image\n",
    "from IPython.core.display import HTML \n",
    "import pandas as pd "
   ]
  },
  {
   "cell_type": "markdown",
   "id": "873cb070",
   "metadata": {},
   "source": [
    "# API With Python library : Requests "
   ]
  },
  {
   "cell_type": "markdown",
   "id": "8c8b2bac",
   "metadata": {},
   "source": [
    "## Import request\n"
   ]
  },
  {
   "cell_type": "code",
   "execution_count": 2,
   "id": "a6869cf3",
   "metadata": {},
   "outputs": [],
   "source": [
    "import requests"
   ]
  },
  {
   "cell_type": "markdown",
   "id": "66e6664f",
   "metadata": {},
   "source": [
    "Tout d'abord une requete simple"
   ]
  },
  {
   "cell_type": "code",
   "execution_count": 15,
   "id": "143a66c6",
   "metadata": {},
   "outputs": [
    {
     "data": {
      "text/plain": [
       "<Response [200]>"
      ]
     },
     "execution_count": 15,
     "metadata": {},
     "output_type": "execute_result"
    }
   ],
   "source": [
    "# on utilise le request.get(\"l'adresse de l'apie\")\n",
    "requests.get('https://api.github.com')"
   ]
  },
  {
   "cell_type": "markdown",
   "id": "f478c258",
   "metadata": {},
   "source": [
    "<Response [200]> signifie que la requete est reussi , dans le cas ou elle ne l'est pas elle retourne <Response [404]>"
   ]
  },
  {
   "cell_type": "markdown",
   "id": "3885cc52",
   "metadata": {},
   "source": [
    "## API BREAKING BAD "
   ]
  },
  {
   "cell_type": "code",
   "execution_count": 12,
   "id": "4ca8d7a0",
   "metadata": {},
   "outputs": [
    {
     "data": {
      "text/html": [
       "<img src=\"https://i.pinimg.com/originals/d3/bb/d0/d3bbd00fc97e601c6dabca395af2e7f6.png\"/>"
      ],
      "text/plain": [
       "<IPython.core.display.Image object>"
      ]
     },
     "execution_count": 12,
     "metadata": {},
     "output_type": "execute_result"
    }
   ],
   "source": []
  },
  {
   "cell_type": "markdown",
   "id": "8356212a",
   "metadata": {},
   "source": [
    "### la premiere étape est de consulter la documentation, pour l'api breaking bad c'est : https://breakingbadapi.com/documentation"
   ]
  },
  {
   "cell_type": "markdown",
   "id": "e5de9278",
   "metadata": {},
   "source": [
    "Ensuite on récupere l'addresse de base de l'api pour vérifier que la connexion est possible "
   ]
  },
  {
   "cell_type": "code",
   "execution_count": 17,
   "id": "cf66bea7",
   "metadata": {},
   "outputs": [],
   "source": [
    "#cette fois on met la requete dans une variable \n",
    "breakingbadapi = requests.get(\"https://www.breakingbadapi.com/api/\")"
   ]
  },
  {
   "cell_type": "code",
   "execution_count": 18,
   "id": "cccd5ccf",
   "metadata": {},
   "outputs": [
    {
     "data": {
      "text/plain": [
       "<Response [200]>"
      ]
     },
     "execution_count": 18,
     "metadata": {},
     "output_type": "execute_result"
    }
   ],
   "source": [
    "#on appel la variable et on observe qu'elle renvoie bien le code 200 donc la connexion fonctionne \n",
    "breakingbadapi "
   ]
  },
  {
   "cell_type": "markdown",
   "id": "241411b7",
   "metadata": {},
   "source": [
    "#### status_code pour manipuler le code reçu directement "
   ]
  },
  {
   "cell_type": "code",
   "execution_count": 22,
   "id": "e9388237",
   "metadata": {},
   "outputs": [
    {
     "data": {
      "text/plain": [
       "200"
      ]
     },
     "execution_count": 22,
     "metadata": {},
     "output_type": "execute_result"
    }
   ],
   "source": [
    "#on réutilie la variable puis on lui passe la methode status_code \n",
    "breakingbadapi.status_code"
   ]
  },
  {
   "cell_type": "code",
   "execution_count": 26,
   "id": "36fae7f9",
   "metadata": {},
   "outputs": [],
   "source": [
    "#grace a ça par exemple on peu plus facilement utiliser le code dans une fonction\n",
    "def connexion(variable_status_code):\n",
    "    if variable_status_code == 200:\n",
    "        print(\"connéxion ok\")\n",
    "    elif variable_status_code == 404:\n",
    "        print(\"not found!\")"
   ]
  },
  {
   "cell_type": "code",
   "execution_count": 27,
   "id": "423c5aa9",
   "metadata": {},
   "outputs": [
    {
     "name": "stdout",
     "output_type": "stream",
     "text": [
      "connéxion ok\n"
     ]
    }
   ],
   "source": [
    "#on test la fonction avec notre variable breakingbad\n",
    "connexion(breakingbadapi.status_code)"
   ]
  },
  {
   "cell_type": "markdown",
   "id": "ce60e702",
   "metadata": {},
   "source": [
    "#### request pour les quotes de l'api breaking bad "
   ]
  },
  {
   "cell_type": "code",
   "execution_count": 29,
   "id": "62e05bd5",
   "metadata": {},
   "outputs": [
    {
     "data": {
      "text/plain": [
       "'[{\"quote\":\"When you have children, you always have family. They will always be your priority, your responsibility. And a man, a man provides. And he does it even when he\\'s not appreciated or respected or even loved. He simply bears up and he does it. Because he\\'s a man.\",\"author\":\"Gustavo Fring\"}]'"
      ]
     },
     "execution_count": 29,
     "metadata": {},
     "output_type": "execute_result"
    }
   ],
   "source": [
    "#on utilise le même requests.get qu'on met dans un variable avec l'adresse qui permet une quote :\n",
    "#https://breaking-bad-quotes.herokuapp.com/v1/quotes\n",
    "quote = requests.get(\"https://breaking-bad-quotes.herokuapp.com/v1/quotes\")\n",
    "#on utilise la method text sur la variable quote pour afficher le texte \n",
    "quote.text "
   ]
  },
  {
   "cell_type": "code",
   "execution_count": 35,
   "id": "1c083102",
   "metadata": {},
   "outputs": [
    {
     "data": {
      "text/plain": [
       "'[{\"quote\":\"\\\\\"Cap\\'n Cook?\\\\\" That\\'s not you? Like I said, no one is looking for you.\",\"author\":\"Walter White\"},{\"quote\":\"I Won.\",\"author\":\"Walter White\"},{\"quote\":\"You know how they say \\'it\\'s been a pleasure\\'? Well... it hasn\\'t.\",\"author\":\"Mike Ehrmantraut\"},{\"quote\":\"If that’s true, if you don’t know who I am, then maybe your best course… would be to tread lightly.\",\"author\":\"Walter White\"},{\"quote\":\"Alright, tell you what. Both of you pull it out your butts right now, or I go grab a flashlight and some pliers and go exploring.\",\"author\":\"Jesse Pinkman\"},{\"quote\":\"Did you just bring a bomb into a hospital?\",\"author\":\"Jesse Pinkman\"},{\"quote\":\"Alright, I\\'ve got the talking pillow now... Okay?\",\"author\":\"Walter White\"},{\"quote\":\"So you do have a plan? Yeah, Mr. White! Yeah, science!\",\"author\":\"Jesse Pinkman\"},{\"quote\":\"Since when do vegans eat fried chicken?\",\"author\":\"Hank Schrader\"},{\"quote\":\"The one that says if I can\\'t kill you, you\\'ll sure as *beep* wish you were dead.\",\"author\":\"Jesse Pinkman\"}]'"
      ]
     },
     "execution_count": 35,
     "metadata": {},
     "output_type": "execute_result"
    }
   ],
   "source": [
    "#pour plusieurs quote on fait la même manipulation avec l'adresse api plusieur quote :\n",
    "#https://breaking-bad-quotes.herokuapp.com/v1/quotes/5\n",
    "quotes = requests.get(\"https://breaking-bad-quotes.herokuapp.com/v1/quotes/10\")\"\"\n",
    "quotes.text"
   ]
  },
  {
   "cell_type": "code",
   "execution_count": 59,
   "id": "fdd52e87",
   "metadata": {},
   "outputs": [],
   "source": [
    "#on enregistre la donnée en format json \n",
    "data_quotes = quotes.json()"
   ]
  },
  {
   "cell_type": "code",
   "execution_count": 63,
   "id": "b56207dc",
   "metadata": {},
   "outputs": [
    {
     "data": {
      "text/plain": [
       "[{'quote': '\"Cap\\'n Cook?\" That\\'s not you? Like I said, no one is looking for you.',\n",
       "  'author': 'Walter White'},\n",
       " {'quote': 'I Won.', 'author': 'Walter White'},\n",
       " {'quote': \"You know how they say 'it's been a pleasure'? Well... it hasn't.\",\n",
       "  'author': 'Mike Ehrmantraut'},\n",
       " {'quote': 'If that’s true, if you don’t know who I am, then maybe your best course… would be to tread lightly.',\n",
       "  'author': 'Walter White'},\n",
       " {'quote': 'Alright, tell you what. Both of you pull it out your butts right now, or I go grab a flashlight and some pliers and go exploring.',\n",
       "  'author': 'Jesse Pinkman'},\n",
       " {'quote': 'Did you just bring a bomb into a hospital?',\n",
       "  'author': 'Jesse Pinkman'},\n",
       " {'quote': \"Alright, I've got the talking pillow now... Okay?\",\n",
       "  'author': 'Walter White'},\n",
       " {'quote': 'So you do have a plan? Yeah, Mr. White! Yeah, science!',\n",
       "  'author': 'Jesse Pinkman'},\n",
       " {'quote': 'Since when do vegans eat fried chicken?',\n",
       "  'author': 'Hank Schrader'},\n",
       " {'quote': \"The one that says if I can't kill you, you'll sure as *beep* wish you were dead.\",\n",
       "  'author': 'Jesse Pinkman'}]"
      ]
     },
     "execution_count": 63,
     "metadata": {},
     "output_type": "execute_result"
    }
   ],
   "source": [
    "data_quotes"
   ]
  },
  {
   "cell_type": "markdown",
   "id": "c67b5466",
   "metadata": {},
   "source": [
    "#### Dataframe/API"
   ]
  },
  {
   "cell_type": "code",
   "execution_count": 71,
   "id": "2cc94b9f",
   "metadata": {},
   "outputs": [],
   "source": [
    "#on met le fichier en format dataframe grace a pandas\n",
    "dataframe_quotes = pd.DataFrame(data_quotes)"
   ]
  },
  {
   "cell_type": "code",
   "execution_count": 72,
   "id": "c700721f",
   "metadata": {},
   "outputs": [
    {
     "data": {
      "text/html": [
       "<div>\n",
       "<style scoped>\n",
       "    .dataframe tbody tr th:only-of-type {\n",
       "        vertical-align: middle;\n",
       "    }\n",
       "\n",
       "    .dataframe tbody tr th {\n",
       "        vertical-align: top;\n",
       "    }\n",
       "\n",
       "    .dataframe thead th {\n",
       "        text-align: right;\n",
       "    }\n",
       "</style>\n",
       "<table border=\"1\" class=\"dataframe\">\n",
       "  <thead>\n",
       "    <tr style=\"text-align: right;\">\n",
       "      <th></th>\n",
       "      <th>quote</th>\n",
       "      <th>author</th>\n",
       "    </tr>\n",
       "  </thead>\n",
       "  <tbody>\n",
       "    <tr>\n",
       "      <th>0</th>\n",
       "      <td>\"Cap'n Cook?\" That's not you? Like I said, no ...</td>\n",
       "      <td>Walter White</td>\n",
       "    </tr>\n",
       "    <tr>\n",
       "      <th>1</th>\n",
       "      <td>I Won.</td>\n",
       "      <td>Walter White</td>\n",
       "    </tr>\n",
       "    <tr>\n",
       "      <th>2</th>\n",
       "      <td>You know how they say 'it's been a pleasure'? ...</td>\n",
       "      <td>Mike Ehrmantraut</td>\n",
       "    </tr>\n",
       "    <tr>\n",
       "      <th>3</th>\n",
       "      <td>If that’s true, if you don’t know who I am, th...</td>\n",
       "      <td>Walter White</td>\n",
       "    </tr>\n",
       "    <tr>\n",
       "      <th>4</th>\n",
       "      <td>Alright, tell you what. Both of you pull it ou...</td>\n",
       "      <td>Jesse Pinkman</td>\n",
       "    </tr>\n",
       "    <tr>\n",
       "      <th>5</th>\n",
       "      <td>Did you just bring a bomb into a hospital?</td>\n",
       "      <td>Jesse Pinkman</td>\n",
       "    </tr>\n",
       "    <tr>\n",
       "      <th>6</th>\n",
       "      <td>Alright, I've got the talking pillow now... Okay?</td>\n",
       "      <td>Walter White</td>\n",
       "    </tr>\n",
       "    <tr>\n",
       "      <th>7</th>\n",
       "      <td>So you do have a plan? Yeah, Mr. White! Yeah, ...</td>\n",
       "      <td>Jesse Pinkman</td>\n",
       "    </tr>\n",
       "    <tr>\n",
       "      <th>8</th>\n",
       "      <td>Since when do vegans eat fried chicken?</td>\n",
       "      <td>Hank Schrader</td>\n",
       "    </tr>\n",
       "    <tr>\n",
       "      <th>9</th>\n",
       "      <td>The one that says if I can't kill you, you'll ...</td>\n",
       "      <td>Jesse Pinkman</td>\n",
       "    </tr>\n",
       "  </tbody>\n",
       "</table>\n",
       "</div>"
      ],
      "text/plain": [
       "                                               quote            author\n",
       "0  \"Cap'n Cook?\" That's not you? Like I said, no ...      Walter White\n",
       "1                                             I Won.      Walter White\n",
       "2  You know how they say 'it's been a pleasure'? ...  Mike Ehrmantraut\n",
       "3  If that’s true, if you don’t know who I am, th...      Walter White\n",
       "4  Alright, tell you what. Both of you pull it ou...     Jesse Pinkman\n",
       "5         Did you just bring a bomb into a hospital?     Jesse Pinkman\n",
       "6  Alright, I've got the talking pillow now... Okay?      Walter White\n",
       "7  So you do have a plan? Yeah, Mr. White! Yeah, ...     Jesse Pinkman\n",
       "8            Since when do vegans eat fried chicken?     Hank Schrader\n",
       "9  The one that says if I can't kill you, you'll ...     Jesse Pinkman"
      ]
     },
     "execution_count": 72,
     "metadata": {},
     "output_type": "execute_result"
    }
   ],
   "source": [
    "#le dataframe rempli grace a la requete \n",
    "dataframe_quotes"
   ]
  },
  {
   "cell_type": "code",
   "execution_count": 76,
   "id": "34ad74a2",
   "metadata": {},
   "outputs": [
    {
     "data": {
      "text/plain": [
       "'Since when do vegans eat fried chicken?'"
      ]
     },
     "execution_count": 76,
     "metadata": {},
     "output_type": "execute_result"
    }
   ],
   "source": [
    "#la premiere quote\n",
    "dataframe_quotes.iloc[8][\"quote\"]"
   ]
  },
  {
   "cell_type": "markdown",
   "id": "7654fba9",
   "metadata": {},
   "source": [
    "# MERCI !"
   ]
  },
  {
   "cell_type": "code",
   "execution_count": null,
   "id": "ff3e5931",
   "metadata": {},
   "outputs": [],
   "source": []
  }
 ],
 "metadata": {
  "kernelspec": {
   "display_name": "Python 3 (ipykernel)",
   "language": "python",
   "name": "python3"
  },
  "language_info": {
   "codemirror_mode": {
    "name": "ipython",
    "version": 3
   },
   "file_extension": ".py",
   "mimetype": "text/x-python",
   "name": "python",
   "nbconvert_exporter": "python",
   "pygments_lexer": "ipython3",
   "version": "3.8.12"
  },
  "toc": {
   "base_numbering": 1,
   "nav_menu": {},
   "number_sections": true,
   "sideBar": true,
   "skip_h1_title": false,
   "title_cell": "Table of Contents",
   "title_sidebar": "Contents",
   "toc_cell": false,
   "toc_position": {},
   "toc_section_display": true,
   "toc_window_display": false
  }
 },
 "nbformat": 4,
 "nbformat_minor": 5
}
